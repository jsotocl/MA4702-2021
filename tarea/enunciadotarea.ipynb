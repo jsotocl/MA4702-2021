{
 "cells": [
  {
   "cell_type": "markdown",
   "metadata": {},
   "source": [
    "# Tarea 1\n",
    "### Curso MA4702 año 2021.  Profesores Iván Rapaport y José Soto \n",
    "\n",
    "## Instrucciones\n",
    "\n",
    "Esta tarea se debe realizar de manera **individual**.\n",
    "\n",
    "El plazo de esta tarea es el día **siguiente** al laboratorio 1, es decir, el jueves 29 de abril a las 23:59\n",
    "\n",
    "Debe entregar por ucursos un solo archivo Tarea.ipynb, al igual que en el laboratorio de prueba este archivo debe entregarse ejecutado por completo usando (Kernel-: Restart and Run All) y luego salvado al disco. El resultado de dicha ejecución es lo que debe entregar.\n",
    "\n",
    "\n",
    "En esta tarea usted necesitará los paquetes siguientes\n",
    "```\n",
    "JuMP, Gurobi, Distances, Plots, StatsBase, DataFrames\n",
    "```\n",
    "(instálelos si no los tiene)\n",
    "\n",
    "\n",
    "Instrucciones adicionales\n",
    "1. Complete la celda de identificación\n",
    "2. Resuelva los ejercicios 1 al 4\n",
    "3. Una vez termine su tarea, ejecute el archivo jupyter completo usando (Kernel: Restart and Run All), o bien usando (Kernel: Restart and Clean Output) y luego ejecutando manualmente las celdas una a una en orden.\n",
    "4. Fuarde el archivo resultado en un .ipynb. Ese es el archivo que debe entregar por ucursos.\n",
    "\n",
    "NOTA IMPORTANTE:\n",
    "Lea la tarea completa y trabaje con tiempo. Solo ejecutar las celdas ya completas le podría tomar varias decenas de minutos de cálculo.\n"
   ]
  },
  {
   "cell_type": "markdown",
   "metadata": {},
   "source": [
    "# IDENTIFICACIÓN E INTRODUCCIÓN "
   ]
  },
  {
   "cell_type": "code",
   "execution_count": null,
   "metadata": {},
   "outputs": [],
   "source": [
    "# Celda de identificación. tipee y ejecute esta celda (como código, no como Markdown)\n",
    "Mi_Nombre = \" \" # Escriba su nombre completo\n",
    "@show(Mi_Nombre)\n",
    "@show(Sys.BINDIR)\n",
    "versioninfo()"
   ]
  },
  {
   "cell_type": "code",
   "execution_count": null,
   "metadata": {},
   "outputs": [],
   "source": [
    "#paquetes a usar\n",
    "using JuMP, Gurobi, Distances, Plots, StatsBase, DataFrames #instale estos paquetes antes si no los tiene en su sistema."
   ]
  },
  {
   "cell_type": "markdown",
   "metadata": {},
   "source": [
    "Calcularemos emparejamientos mínimos de conjuntos de puntos en el plano.\n",
    "Consideremos $N$ puntos en el plano (con $N$ par), determinados por su vector ```coordx``` de coordenadas x y su vector ```coordy``` de  coordenadas y.\n",
    "\n",
    "La función ```distancias``` de la siguiente celda  calcula una matriz $w$ con las distancias entre los puntos  guardados en una matriz triangular superior, es decir $w[i,j]$ es la distancia entre el punto $i$ y el punto $j$  para todo $1\\leq i<j\\leq N$.\n",
    "\n",
    "Los modelos devolverán vectores indexados por aristas que no son necesariamente enteros, por lo cual la función ```dibuja``` de la siguiente celda será util para dibujar y analizarlos. "
   ]
  },
  {
   "cell_type": "code",
   "execution_count": null,
   "metadata": {},
   "outputs": [],
   "source": [
    "function distancias(coordx, coordy)\n",
    "    N=length(coordx)\n",
    "    w=zeros(N,N)\n",
    "    for i in 1:N, j in i+1:N\n",
    "        w[i,j]=euclidean([coordx[i],coordy[i]],[coordx[j],coordy[j]])\n",
    "    end\n",
    "    return w\n",
    "end\n",
    "\n",
    "function dibuja(coordx,coordy,arcos)\n",
    "## Recibe dos arreglos de N valores donde (coordx[i],coordy[i]) son las coordenadas de la ciudad i\n",
    "## Recibe además una matriz arcos de N x N, donde arcos[i,j] es el peso del arco [i,j]\n",
    "## Dibuja los N puntos en el plano y dibuja los arcos con ancho de linea proporcional al peso.\n",
    "    N=length(coordx)\n",
    "    scatter(coordx,coordy,txt=text.(1:N,10,:bottom))\n",
    "    for k in findall(!iszero, arcos)\n",
    "        plot!([coordx[k[1]],coordx[k[2]]],[coordy[k[1]],coordy[k[2]]],arrow = false,lc=:blue, linewidth = 2*arcos[k[1],k[2]])\n",
    "    end\n",
    "    display(plot!(leg=false))\n",
    "end\n"
   ]
  },
  {
   "cell_type": "code",
   "execution_count": null,
   "metadata": {},
   "outputs": [],
   "source": [
    "#Un ejemplo con 20 puntos aleatorios.\n",
    "#Se dibujan las aristas (1,7),(7,13),(5,13),(1,5) con un peso de 1\n",
    "# y las aristas (2,8), (2,10), (8,10) con un peso de 0.5\n",
    "\n",
    "\n",
    "N=20\n",
    "a = sample(1:200, 20, replace = false)\n",
    "b = sample(1:200, 20, replace = false)\n",
    "w = distancias(a,b)\n",
    "scatter!(a,b)\n",
    "ciclo_ejemplo=zeros(N,N)\n",
    "ciclo_ejemplo[1,7]=1\n",
    "ciclo_ejemplo[7,13]=1\n",
    "ciclo_ejemplo[5,13]=1\n",
    "ciclo_ejemplo[1,5]=1\n",
    "\n",
    "ciclo_ejemplo[2,10]=0.5\n",
    "ciclo_ejemplo[2,8]=0.5\n",
    "ciclo_ejemplo[8,10]=0.5\n",
    "\n",
    "dibuja(a,b,ciclo_ejemplo)"
   ]
  },
  {
   "cell_type": "code",
   "execution_count": null,
   "metadata": {},
   "outputs": [],
   "source": [
    "#imprimir la matriz de distancia w\n",
    "w"
   ]
  },
  {
   "cell_type": "markdown",
   "metadata": {},
   "source": [
    "***\n",
    "***\n",
    "\n",
    "En lo que sigue  $G=(V,E)$ es un grafo **completo** con $V=[N]$, Los siguientes cuatro modelos son modelos exactos (posiblemente extendidos y en el sentido de puntos extremos) para encontrar un emparejamiento de peso mínimo. Consideraremos $E=\\{[i,j]\\colon 1\\leq i < j\\leq N\\}$.\n",
    "\n",
    "\n",
    "\\begin{align*}\n",
    "\\text{(M1)}\\quad  \\min \\sum_{e\\in E} x_ew_e\\\\\n",
    "x(E) &= N/2\\\\\n",
    "x_{e}+x_{f}&\\leq 1, \\forall e, f \\in E\\colon |e\\cap f|=1\\\\\n",
    "0\\leq x_e&\\leq 1, \\forall e\\in E\\\\\n",
    "x_e&\\in \\mathbb{Z}, \\forall e\\in E\\\\\n",
    "\\mbox{}\\\\\n",
    "\\text{(M2)}\\quad  \\min \\sum_{e\\in E} x_ew_e\\\\\n",
    "x(\\delta(i))&= 1, \\forall i\\in V\\\\\n",
    "x_e&\\geq 0, \\forall e\\in E\\\\\n",
    "x_e&\\in \\mathbb{Z}, \\forall e\\in E\\\\\n",
    "\\mbox{}\\\\\n",
    "\\text{(M3)}\\quad  \\min \\sum_{e\\in E} x_ew_e\\\\\n",
    "x(\\delta(i))&= 1, \\forall i\\in V\\\\\n",
    "y(V)&=n/2\\\\\n",
    "x_{ij}&\\leq y_{i}+y_{j}, \\forall e=ij \\in E\\\\\n",
    "x_{ij}&\\leq 2-y_{i}+y_{j}, \\forall e=ij \\in E\\\\\n",
    "x_e&\\geq 0, \\forall e\\in E\\\\\n",
    "0\\leq y_v&\\leq 1, \\forall v\\in V\\\\\n",
    "y_v&\\in \\mathbb{Z}, \\forall v\\in V\\\\\n",
    "\\mbox{}\\\\\n",
    "\\text{(M4)}\\quad  \\min \\sum_{e\\in E} x_ew_e\\\\\n",
    "x(E) &= N/2\\\\\n",
    "x(E(S))&\\leq \\frac{|S|-1}{2}, \\forall S\\subseteq V, |S| \\text{ impar}\\\\\n",
    "0\\leq x_e&\\leq 1, \\forall e\\in E\\\\\n",
    "\\end{align*}\n",
    "\n",
    "Los 4 modelos son bastante distintos entre sí. \n",
    "\n",
    "El primer modelo es un PLE con $m=\\Theta(N^2)$ variables enteras y $\\Theta(N^3)$ restricciones.\n",
    "\n",
    "El segundo modelo es un PLE con $m=\\Theta(N^2)$ variables enteras y $\\Theta(N)$ restricciones (ignorando cotas).\n",
    "\n",
    "El tercer modelo es un PL Mixto con $m=\\Theta(N^2)$ variables continuas, $N$ variables enteras y $\\Theta(N^2)$ restricciones.\n",
    "\n",
    "El cuarto modelo es un PL puro con  $m=\\Theta(N^2)$ variables continuas  y $\\Theta(2^N)$ restricciones. Un teorema de Edmonds garantiza que los puntos extremos de (M4) son exactamente matchings perfectos.\n",
    "\n"
   ]
  },
  {
   "cell_type": "markdown",
   "metadata": {},
   "source": [
    "# Ejercicio 1. Responder en Markdown.\n",
    "\n",
    "En clases vimos que los modelos 1 y 2 son exactos. El modelo 4 también es exacto (en el sentido integral) y con formulación ideal (es decir, los puntos enteros de la formulación corresponden exactamente a matching perfectos y viceversa).\n",
    "\n",
    "Veamos que el modelo 3 es, en cierto modo, también un modelo (extendido) exacto con buena formulación.\n",
    "\n",
    "Demuestre las siguientes propiedades del modelo 3 en las siguientes celdas (usando markdown para formatear)\n",
    "\n",
    "1.1: Para todo  matching perfecto $M$ existen variables $(x, y)$ factibles tal que $M$ está representado por $x$. Explique el rol de la variable $y$. \n",
    "\n",
    "1.2: Demuestre que para todo punto $(x,y)$ factible en (M3), $x$ es la indicatriz de un matching perfecto.\n",
    "\n",
    "1.3: Demuestre que para todo $(x,y)$ factible en (M3), existe un $x'$ entero tal que  $(x',y)$ es factible en (M3) de igual valor objetivo que $(x,y)$. Concluya que todo óptimo de (M3) se puede transformar en un matching perfecto de costo mínimo.\n"
   ]
  },
  {
   "cell_type": "markdown",
   "metadata": {},
   "source": [
    "## Solución al ejercicio 1.1\n",
    "\n",
    "..."
   ]
  },
  {
   "cell_type": "markdown",
   "metadata": {},
   "source": [
    "## Solución al ejercicio 1.2\n",
    "\n",
    "..."
   ]
  },
  {
   "cell_type": "markdown",
   "metadata": {},
   "source": [
    "## Solución al ejercicio 1.3\n",
    "\n",
    "..."
   ]
  },
  {
   "cell_type": "markdown",
   "metadata": {},
   "source": [
    "# Ejercicio 2. En Julia.\n",
    "\n",
    "Escriba una función \n",
    "```julia\n",
    "emparejamiento(num_modelo, N, w) \n",
    "return modelo\n",
    "```\n",
    "\n",
    "que reciba como entrada:\n",
    "```julia\n",
    "num_modelo: entero en {1,2,3,4} que representa si se trabaja con M1, M2, M3 o M4.\n",
    "N: número de vértices del grafo\n",
    "w: matriz de pesos\n",
    "```\n",
    "y entregue el modelo en juMP/Gurobi asociado al grafo entregado.\n",
    "\n",
    "\n",
    "Indicación:\n",
    "Le recomendamos escribir uno de los modelos primero y seguir con los otros ejercicios, para que pueda probarlo. \n",
    "Una vez que esté listo, escriba los demás modelos.\n"
   ]
  },
  {
   "cell_type": "code",
   "execution_count": null,
   "metadata": {},
   "outputs": [],
   "source": [
    "# Escriba su respuesta aquí\n",
    "# Esconda la salida de Gurobi escribiendo el comando\n",
    "\n",
    "\n",
    "function emparejamiento(num_modelo, N, w) \n",
    "    mimodelo=Model()\n",
    "    set_optimizer(mimodelo, Gurobi.Optimizer)\n",
    "    set_optimizer_attributes(mimodelo, \"OutputFlag\" => 0, \"TimeLimit\" => 80)\n",
    "    \n",
    "    # escriba el resto de la funcion \n",
    "    return mimodelo\n",
    "end\n",
    "            \n",
    "    \n",
    "# las 2 celdas siguientes contiene un ejemplo que puede usarlo para probar su método "
   ]
  },
  {
   "cell_type": "code",
   "execution_count": null,
   "metadata": {},
   "outputs": [],
   "source": [
    "# Celda para probar el método anterior\n",
    "N=6\n",
    "a = [63, 114, 165, 14, 140, 180]\n",
    "b = [174, 133, 54, 87, 47, 35]\n",
    "w = distancias(a,b)\n",
    "num_mod=1 # o el modelo que desee probar\n",
    "\n",
    "modelo1=emparejamiento(num_mod, 6, w)\n",
    "optimize!(modelo1)\n",
    "@show(objective_value(modelo1))\n",
    "@show(JuMP.simplex_iterations(modelo1))\n",
    "@show(JuMP.node_count(modelo1));\n",
    "\n",
    "#Nota: El valor objetivo debería ser alrededor de 213.9016339...\n",
    "\n"
   ]
  },
  {
   "cell_type": "code",
   "execution_count": null,
   "metadata": {},
   "outputs": [],
   "source": [
    "# Celda para dibujar el matching encontrado\n",
    "X = zeros(N,N)\n",
    "for i in 1:N, j in 1:N\n",
    "    if i<j\n",
    "    X[i,j]=value(modelo1[:x][i,j])\n",
    "    end\n",
    "end\n",
    "dibuja(a,b,X)\n"
   ]
  },
  {
   "cell_type": "markdown",
   "metadata": {},
   "source": [
    "# Ejercicio 3. En Julia\n",
    "\n",
    "Parte 1. Escriba una función test_matching(N_MAX) que realice lo siguiente.\n",
    "\n",
    "1. Genere una instancia aleatoria (N, coordX,coordY,w) para cada N par entre 6 y N_MAX \n",
    "   donde coordX, coordY son puntos de la grilla 1:200 por 1:200 y w es su matriz de distancia.\n",
    "   (el comando sample(1:200, N, replace = false) entrega N enteros entre 1 y 200 sin repetición)\n",
    "   \n",
    "   Nota: Guarde las instancias creadas en un arreglo (en el formato que usted desee), durante su ejecución pues debe retornarlas al final. \n",
    "\n",
    "2. Para cada instancia (N,coordX,coordY,w) de su lista y cada modelo (num_mod), calcule y guarde los siguientes valores:\n",
    "    1. Valor de N\n",
    "    2. valor de num_mod\n",
    "    3. Numero de variables del modelo (busque el comando en la documentación de JuMP)\n",
    "    4. Numero de restricciones del modelo (busque el comando en la documentación de JuMP)\n",
    "    5. Tiempo de creación del modelo a partir de (N,coordX,coordY,w).   \n",
    "    \n",
    "            NOTA: Investigue el comando @elapse. Por ejemplo, ejecute\n",
    "            A=@elapse B = 100*20; A,B; \n",
    "    6. Tiempo de resolución del modelo creado.\n",
    "    7. Valor objetivo encontrado (si logró terminar, si no, entregar 0).\n",
    "    \n",
    "            NOTA: Debe testear si el modelo termina de ejecutar usando termination_status\n",
    "            \n",
    "    8. Numero de iteraciones de simplex realizadas (JuMP.simplex_iterations(nombre_modelo))\n",
    "    9. Numero de nodos BnB realizados (JuMP.node_count(nombre_modelo))\n",
    "   \n",
    "   Luego elimine integralidad de las variables del modelo, resuelva nuevamente y calcule\n",
    "   \n",
    "    10. Tiempo de resolución del modelo fraccional \n",
    "    11. Valor objetivo encontrado (si logró terminar, si no, entregar 0)\n",
    "    12. Numero de iteraciones de simplex realizadas\n",
    "    \n",
    "3. Retorne un par INSTANCIAS, TABLA \n",
    "\n",
    "Parte 2. Cuando termine su función ejecute test_matching(8) y test_matching(20), mostrando la TABLA creada. \n",
    "NOTA: la última tabla debería tener 80 filas.\n",
    "\n",
    "Parte 3. (opcional) Si su computador logra tiempos razonables sin quedarse sin memoria, ejecute test con el número más alto que pueda correr. \n",
    "\n",
    "Sugerencia: Un formato razonable de tabla es el de la siguiente celda\n"
   ]
  },
  {
   "cell_type": "code",
   "execution_count": null,
   "metadata": {},
   "outputs": [],
   "source": [
    "ENV[\"COLUMNS\"]=200\n",
    "df=DataFrame(\n",
    "    :N                 => Int64[],\n",
    "    :num_modelo        => Int64[],\n",
    "    :variables         => Int64[],\n",
    "    :restricciones     => Int64[],\n",
    "    :t_creacion_ent    => Float64[],\n",
    "    :t_resolucion_ent  => Float64[],\n",
    "    :valor_ent         => Float64[],\n",
    "    :simplex_ent       => Int64[],\n",
    "    :nodos_bnb         => Int64[],\n",
    "    :t_resolucion_frac => Float64[],\n",
    "    :valor_frac        => Float64[],\n",
    "    :simplex_frac      => Int64[]) \n",
    "push!(df,[6, 1, 18, 60, 0.55, 1.223, 14.4, 10, 7, 2, 0.33, 5])"
   ]
  },
  {
   "cell_type": "code",
   "execution_count": null,
   "metadata": {},
   "outputs": [],
   "source": [
    "# Escriba su función acá\n",
    "\n",
    "function test_matching(N_MAX)\n",
    "    ...\n",
    "    return INSTANCIAS, TABLA \n",
    "end\n",
    "    "
   ]
  },
  {
   "cell_type": "code",
   "execution_count": null,
   "metadata": {},
   "outputs": [],
   "source": []
  },
  {
   "cell_type": "code",
   "execution_count": null,
   "metadata": {},
   "outputs": [],
   "source": [
    "# Pruebe su función acá\n",
    "INSTANCIAS8, TABLA8 = test_matching(8);\n",
    "TABLA8"
   ]
  },
  {
   "cell_type": "code",
   "execution_count": null,
   "metadata": {},
   "outputs": [],
   "source": [
    "# Pruebe su función acá\n",
    "INSTANCIAS20, TABLA20 = test_matching(20);\n",
    "TABLA20"
   ]
  },
  {
   "cell_type": "code",
   "execution_count": null,
   "metadata": {},
   "outputs": [],
   "source": [
    "# Pruebe su función acá con el valor más grande que pueda.\n"
   ]
  },
  {
   "cell_type": "markdown",
   "metadata": {},
   "source": [
    "# Ejercicio 4. En Julia y en Markdown\n",
    "\n",
    "Se sabe que los modelos 1 al 3 requieren de sus condiciones de integralidad.\n",
    "Busque, ya sea en las instancias generadas al azar de la parte anterior, o en otras que genere usted \n",
    "una instancia donde las versiones fraccionales de los 4 modelos sean lo más distintas posibles (en valor objetivo)\n",
    "\n",
    "Muestre los valores objetivos y dibuje los puntos fraccionales (solo la parte que corresponde a x) optimos asociados a los 4 modelos.\n",
    "\n",
    "Además, responda a  las siguientes preguntas abiertas:\n",
    "¿Puede encontrar una instancia donde los 4 valores difieran? (Justifique)\n",
    "¿Qué modelo tiene el menor valor objetivo, el segundo, el tercero y el cuarto? ¿Deben siempre estar en este orden? (Justifique su respuesta) "
   ]
  },
  {
   "cell_type": "code",
   "execution_count": null,
   "metadata": {},
   "outputs": [],
   "source": [
    "# instancia encontrada (escribala aquí, debe ser fija, no generada aleatoriamente cada vez que corra el código)\n",
    "N=\n",
    "coordx=\n",
    "coordy=\n",
    "\n",
    "# Resuelva la instancia con los 4 modelos (recuerde quitar la integralidad)\n",
    "..\n",
    "\n",
    "# Muestre una tabla con valores objetivos\n",
    ".."
   ]
  },
  {
   "cell_type": "code",
   "execution_count": null,
   "metadata": {},
   "outputs": [],
   "source": [
    "#dibujos para las 4 soluciones fraccionales encontradas\n",
    ".."
   ]
  },
  {
   "cell_type": "markdown",
   "metadata": {},
   "source": [
    "Respuesta a las preguntas abiertas.\n",
    "..\n"
   ]
  }
 ],
 "metadata": {
  "kernelspec": {
   "display_name": "Julia 1.6.0",
   "language": "julia",
   "name": "julia-1.6"
  },
  "language_info": {
   "file_extension": ".jl",
   "mimetype": "application/julia",
   "name": "julia",
   "version": "1.6.0"
  }
 },
 "nbformat": 4,
 "nbformat_minor": 2
}
