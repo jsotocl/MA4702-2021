{
 "cells": [
  {
   "cell_type": "markdown",
   "metadata": {},
   "source": [
    "# Curso básico intensivo de JuMP (para MA4702)\n",
    "## Prof. José Soto\n",
    "\n",
    "***\n",
    "\n",
    "\n",
    "# Gurobi y JuMP (Julia for Mathematical Programming)\n",
    "\n",
    "Gurobi es un solver de optimización comercial, incluye:\n",
    "\n",
    "- Linear programming (LP)\n",
    "- Quadratic programming (QP)\n",
    "- Quadratically constrained programming (QCP)\n",
    "- Mixed integer linear programming (MILP)\n",
    "- Mixed-integer quadratic programming (MIQP)\n",
    "- Mixed-integer quadratically constrained programming (MIQCP).\n",
    "- Non-Convex Quadratic Optimization (NCQO)\n",
    "\n",
    "Hay varias formas de programar un modelo de optimización usando Gurobi en Julia, ejemplos en:\n",
    "- https://github.com/JuliaOpt/Gurobi.jl\n",
    "\n",
    "Se recomienda usar Gurobi con JuMP, <a hred=\"http://www.juliaopt.org/JuMP.jl/stable/\">JuMP</a> es un lenguage de optimización matemática que soporta un gran abanico de solvers."
   ]
  },
  {
   "cell_type": "code",
   "execution_count": null,
   "metadata": {},
   "outputs": [],
   "source": [
    "# Para instalar o actualizar paquetes (si lo desea)  debe importar Pkg.\n",
    "import Pkg\n",
    "# Pkg.add(\"Gurobi\")\n",
    "# Pkg.add(\"JuMP\")"
   ]
  },
  {
   "cell_type": "code",
   "execution_count": null,
   "metadata": {},
   "outputs": [],
   "source": [
    "# Agreguemos paquetes para este tutorial\n",
    "\n",
    "Pkg.add(\"GLPK\") #otro solver gratuito\n",
    "using Gurobi,JuMP, GLPK"
   ]
  },
  {
   "cell_type": "markdown",
   "metadata": {},
   "source": [
    "** NOTA: Puede encontrar más información en https://jump.dev/JuMP.jl/v0.21.1/solutions/ y https://jump.dev/JuMP.jl/stable/quickstart/"
   ]
  },
  {
   "cell_type": "markdown",
   "metadata": {},
   "source": [
    "# 1. Resolver PL simples (y PLM)"
   ]
  },
  {
   "cell_type": "markdown",
   "metadata": {},
   "source": [
    "\\begin{equation}\n",
    "\\begin{matrix}\n",
    "\\underset{x,y}{\\max} & x+y \\\\\n",
    "\\textrm{s.t.} & 50x+21y & \\leq & 2400 \\\\\n",
    "& 30x+33y & \\leq & 2100\\\\\n",
    "& x & \\geq & 5\\\\\n",
    "& y & \\geq & 45\\\\\n",
    "\\end{matrix}\n",
    "\\end{equation}"
   ]
  },
  {
   "cell_type": "markdown",
   "metadata": {},
   "source": [
    "Presolve: operaciones que realiza un solver para transformar un problema de optimización en uno equivalente más fácil de resolver."
   ]
  },
  {
   "cell_type": "code",
   "execution_count": null,
   "metadata": {},
   "outputs": [],
   "source": [
    "#Creamos el objeto modelo usando una funcion\n",
    "function creaModelo()\n",
    "    ### MODELO, SOLVER y ATRIBUTOS\n",
    "    # Indicar que el solver a utilizar es Gurobi\n",
    "    # Cuando usemos varios modelos, lo mejor es pasarle la sesion de Gurobi\n",
    "    #\n",
    "    # nombremodelo = Model(Gurobi.Optimizer(GUROBI_ENV))\n",
    "    # set_optimizer_attribute(nombremodelo, \"nombreatributo1\", valoratributo1)\n",
    "    # ...\n",
    "    \n",
    "    mimodelo=Model(Gurobi.Optimizer(GUROBI_ENV))\n",
    "    set_optimizer_attribute(mimodelo, \"presolve\", 1)\n",
    "    \n",
    "    ### VARIABLES\n",
    "    # @variable(nombremodelo, variable declarada)\n",
    "    # o bien\n",
    "    # @variables(nombremodelo, begin\n",
    "    #    var1\n",
    "    #    ..\n",
    "    #    varn\n",
    "    # end)\n",
    "    \n",
    "    @variables(..\n",
    "            \n",
    "    ### Restricciones \n",
    "    # @constraint(nombremodelo, [(opcional) nombrerestriccion], restriccion)\n",
    "    # o bien\n",
    "    # @constraints(nombremodelo, begin\n",
    "    # [nombrerestriccion], restriccion\n",
    "    # ejemplos: \n",
    "    # rest1, a+b<=10\n",
    "    # sum[b[i] for i in 1:n]<=10\n",
    "    # salida[1:n], a[i]+b>=0\n",
    "    # llamemosla const1 y const2\n",
    "    @constraint(..\n",
    "    @constraint(..\n",
    "            \n",
    "    ### Objetivo\n",
    "    # @objective(nombremodelo, direccion, funcion)\n",
    "    \n",
    "    @objective(..\n",
    "\n",
    "    return ..\n",
    "end"
   ]
  },
  {
   "cell_type": "code",
   "execution_count": null,
   "metadata": {},
   "outputs": [],
   "source": [
    "modelo1=creaModelo()"
   ]
  },
  {
   "cell_type": "code",
   "execution_count": null,
   "metadata": {},
   "outputs": [],
   "source": [
    "optimize!(modelo1)"
   ]
  },
  {
   "cell_type": "code",
   "execution_count": null,
   "metadata": {},
   "outputs": [],
   "source": [
    "#acceder a una variable del modelo (ojo, no es su valor)\n",
    "modelo1[:x]"
   ]
  },
  {
   "cell_type": "code",
   "execution_count": null,
   "metadata": {},
   "outputs": [],
   "source": [
    "#acceder a una restricción del modelo\n",
    "modelo1[:const1]"
   ]
  },
  {
   "cell_type": "code",
   "execution_count": null,
   "metadata": {},
   "outputs": [],
   "source": [
    "#preguntar por qué el solver paró\n",
    "termination_status(modelo1)"
   ]
  },
  {
   "cell_type": "code",
   "execution_count": null,
   "metadata": {},
   "outputs": [],
   "source": [
    "#Guardar el valor óptimo, la solución primal y los lados izquierdos de las restricciones.\n",
    "obj= \n",
    "valorx= \n",
    "valory= \n",
    "LIconst1 = \n",
    "LIconst2 = \n",
    "\n",
    "@show(obj, valorx, valory, LIconst1, LIconst2)"
   ]
  },
  {
   "cell_type": "code",
   "execution_count": null,
   "metadata": {},
   "outputs": [],
   "source": [
    "# Es posible también obtener inmediatamente la solución dual \n",
    "# En el dual hay una variable para cada restriccion (comando dual)\n",
    "dual1=\n",
    "dual2=\n",
    "\n",
    "@show(dual1, dual2)\n"
   ]
  },
  {
   "cell_type": "code",
   "execution_count": null,
   "metadata": {},
   "outputs": [],
   "source": [
    "#tambien hay una variable dual para cada cota, esto es mas dificil (manual) de obtener.\n",
    "#\n",
    "dualx=dual(LowerBoundRef(modelo1[:x]))\n",
    "dualy=dual(LowerBoundRef(modelo1[:y]))\n",
    "@show(dualx, dualy);"
   ]
  },
  {
   "cell_type": "code",
   "execution_count": null,
   "metadata": {},
   "outputs": [],
   "source": [
    "#veamos que pasa si obligamos al que problema primal sea no acotado removiendo restricciones\n",
    "modelo1=creaModelo()\n",
    "delete(modelo1, modelo1[:const1])\n",
    "delete(modelo1, modelo1[:const2])\n",
    "optimize!(modelo1)"
   ]
  },
  {
   "cell_type": "code",
   "execution_count": null,
   "metadata": {},
   "outputs": [],
   "source": [
    "termination_status(modelo1)"
   ]
  },
  {
   "cell_type": "markdown",
   "metadata": {},
   "source": [
    "Resolvamos ahora un nuevo modelo para el siguiente problema entero"
   ]
  },
  {
   "cell_type": "markdown",
   "metadata": {},
   "source": [
    "\\begin{equation}\n",
    "\\begin{matrix}\n",
    "\\underset{x,y}{\\max} & x+y \\\\\n",
    "\\textrm{s.t.} & 50x+21y & \\leq & 2400 \\\\\n",
    "& 30x+33y & \\leq & 2100\\\\\n",
    "& x & \\geq & 5\\\\\n",
    "& y & \\geq & 45\\\\\n",
    "&x, y &\\in &\\mathbb{Z}\n",
    "\\end{matrix}\n",
    "\\end{equation}"
   ]
  },
  {
   "cell_type": "code",
   "execution_count": null,
   "metadata": {},
   "outputs": [],
   "source": [
    "modelo2=creaModelo()\n",
    "set_integer(modelo2[:x])\n",
    "set_integer(modelo2[:y])\n",
    "modelo2"
   ]
  },
  {
   "cell_type": "code",
   "execution_count": null,
   "metadata": {},
   "outputs": [],
   "source": [
    "optimize!(modelo2)"
   ]
  },
  {
   "cell_type": "code",
   "execution_count": null,
   "metadata": {},
   "outputs": [],
   "source": [
    "#Guardar el valor óptimo, la solución primal y los lados izquierdos de las restricciones.\n",
    "# ..\n",
    "# @show(obj, valorx, valory, LIconst1, LIconst2)"
   ]
  },
  {
   "cell_type": "markdown",
   "metadata": {},
   "source": [
    "# 2. Un modelo de transporte"
   ]
  },
  {
   "cell_type": "markdown",
   "metadata": {},
   "source": [
    "Modelemos el clasico modelo de transporte siguiente para cierto grafo bipartito con Origen y Destino establecido. Aqui P y Q son vectores de demanda en ambos lados, y E es un conjunto de arcos en ORIGEN x DESTINO. Este es un programa lineal puro.\n",
    "\n",
    "$$\\begin{align*}\n",
    "           \\qquad \\min \\sum_{(a,b)\\in E} c(a,b) x(a,b) \\\\\n",
    "   \\quad  \\sum_{b: (a,b)\\in E} x(a,b) &= P(a), \\quad  \\forall a \\in \\texttt{ORIG} \\\\\n",
    "\t\t\t\t      \\sum_{a: (a,b)\\in E} x(a,b) &=Q(b), \\quad  \\forall b \\in \\texttt{DEST} \\\\                           \n",
    "x(a,b)&\\geq 0,\\quad \\forall (a,b)\\in E.\n",
    "\\end{align*}$$\n",
    "\n",
    "Este modelo es válido solo cuando la suma de los P es igual a la suma de los Q."
   ]
  },
  {
   "cell_type": "markdown",
   "metadata": {},
   "source": [
    "La idea es modelar el problema pensando que E, c, P, Q son datos que serán revelados más tarde.\n",
    "Pensamos que P y Q vienen como vectores y que c es la matriz que tiene sus valores (solo en E)"
   ]
  },
  {
   "cell_type": "code",
   "execution_count": null,
   "metadata": {},
   "outputs": [],
   "source": [
    "import Test\n",
    "function transporte(E, c, P, Q)\n",
    "    mi_modelo = Model()\n",
    "\n",
    "    #Le indicamos a JuMP que el solver a utilizar es Gurobi\n",
    "    mi_modelo = Model(Gurobi.Optimizer(GUROBI_ENV))\n",
    "    \n",
    "    @variable(..\n",
    "    @objective(..\n",
    "    @constraints(mi_modelo, begin                    \n",
    "        ..\n",
    "    end)\n",
    "\n",
    "    Test.@test sum(P) == sum(Q)\n",
    "                    \n",
    "    return mi_modelo\n",
    "end\n",
    "    "
   ]
  },
  {
   "cell_type": "markdown",
   "metadata": {},
   "source": [
    "Probemos a resolver el problema para los siguientes valores\n",
    "\n",
    "Valores1.\n",
    "\n",
    "| P,Q,c  | 350  | 300 | 450 |\n",
    "|--------|------|-----|-----|\n",
    "|  400   | 30   | 45  | 10  |\n",
    "|  400   | 10   | X   | 20  |\n",
    "|  64    | 12   | 15  | 15  |\n",
    "|  236   | 20   | 10  | X   |\n",
    "\n",
    "Valores2.\n",
    "\n",
    "| P,Q,c  | 30   | 20  | 10  | 70  |\n",
    "|--------|------|-----|-----|-----|\n",
    "|  20    | 5    | X   | 10  | 20  |\n",
    "|  10    | X    | 80  | X   | 10  |\n",
    "|  55    | X    | X   | X   | 20  |\n",
    "|  10    | 10   | X   | 100 | X   |\n",
    "|  5     | 20   | X   | X   | X   |\n",
    "|  30    | 16   | 20  | X   | X   |\n",
    "\n"
   ]
  },
  {
   "cell_type": "code",
   "execution_count": null,
   "metadata": {},
   "outputs": [],
   "source": [
    "modelo3=transporte(E,c,P,Q);"
   ]
  },
  {
   "cell_type": "code",
   "execution_count": null,
   "metadata": {},
   "outputs": [],
   "source": [
    "optimize!(modelo3)"
   ]
  },
  {
   "cell_type": "code",
   "execution_count": null,
   "metadata": {},
   "outputs": [],
   "source": [
    "objective_value(modelo3)\n",
    "value.(modelo3[:x])"
   ]
  },
  {
   "cell_type": "markdown",
   "metadata": {},
   "source": [
    "# 3. Modelar y resolver Caminos de Largo Minimo\n"
   ]
  },
  {
   "cell_type": "markdown",
   "metadata": {},
   "source": [
    " Estos son los dos modelos vistos en clases\n",
    " \n",
    " $$\\begin{align*}\n",
    "(\\text{SP-Conector})\\qquad\\qquad \\min &\\sum_{e\\in E}\\ell_{e}x_{e}\\\\\n",
    "x(\\delta^+(U))&\\geq 1 \\text{ para todo $s$-$t$ corte $U$}\\\\\n",
    "x&\\in \\{0,1\\}^E\n",
    "    \\end{align*}$$\n",
    "\n",
    "y\n",
    "\n",
    "$$\\begin{align*}\n",
    "(\\text{SP-Flujo})\\qquad\\qquad \\min &\\sum_{e\\in E}\\ell_{e}x_{e}\\\\\n",
    "x(\\delta^+(v))-x(\\delta^-(v))&= 0 \\text{ para todo $v\\in V\\setminus\\{s,t\\}$}\\\\\n",
    "x(\\delta^+(s))&=1\\\\\n",
    "x(\\delta^+(t))&=0\\\\\n",
    "x(\\delta^-(s))&=0\\\\\n",
    "x(\\delta^-(t))&=0\\\\\n",
    "x&\\in \\{0,1\\}^E\n",
    "\\end{align*}$$\n",
    "\n",
    "\n"
   ]
  },
  {
   "cell_type": "code",
   "execution_count": null,
   "metadata": {},
   "outputs": [],
   "source": [
    "# Usaremos como instancia un grafo completo elegido al azar\n",
    "\n",
    "N=8\n",
    "largos = rand(1:100,N,N)\n",
    "for i in 1:N\n",
    "    largos[i,i]=0\n",
    "end\n",
    "origen = 2\n",
    "destino = 7;\n",
    "largos"
   ]
  },
  {
   "cell_type": "code",
   "execution_count": null,
   "metadata": {},
   "outputs": [],
   "source": [
    "# Nota. para iterar sobre conjuntos se puede hacer\n",
    "# Using combinatorics\n",
    "#import Pkg\n",
    "#Pkg.add(\"Combinatorics\")\n",
    "#using Combinatorics\n",
    "for X in powerset([2 3 4 7])\n",
    "    println(X)\n",
    "end"
   ]
  },
  {
   "cell_type": "code",
   "execution_count": null,
   "metadata": {},
   "outputs": [],
   "source": [
    "# Crear funcion para modelo SP-corte\n",
    "function SP-corte(N, largos, origen, destino)\n",
    "    ..\n",
    "    return modeloSP-corte\n",
    "end\n",
    "\n",
    "# Crear funcion para modelo SP-flujo\n",
    "function SP-flujo(N, largos, origen, destino)\n",
    "    ..\n",
    "    return modeloSP-flujo\n",
    "end\n"
   ]
  },
  {
   "cell_type": "markdown",
   "metadata": {},
   "source": [
    "modeloSP1=SP-corte(N,largos,origen,destino)\n",
    "modeloSP2=SP-flujo(N,largos,origen,destino)\n",
    "optimize!(modeloSP1)\n",
    "objective_value(modeloSP1)\n",
    "values.(modeloSP1[:x])\n",
    "\n",
    "optimize!(modeloSP2)\n",
    "objective_value(modeloSP2)\n",
    "values.(modeloSP2[:x])\n"
   ]
  }
 ],
 "metadata": {
  "kernelspec": {
   "display_name": "Julia 1.5.4",
   "language": "julia",
   "name": "julia-1.5"
  },
  "language_info": {
   "file_extension": ".jl",
   "mimetype": "application/julia",
   "name": "julia",
   "version": "1.5.4"
  }
 },
 "nbformat": 4,
 "nbformat_minor": 2
}
